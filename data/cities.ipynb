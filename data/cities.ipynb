{
 "cells": [
  {
   "cell_type": "markdown",
   "id": "5f205a7f",
   "metadata": {},
   "source": [
    "## World Cities"
   ]
  },
  {
   "cell_type": "markdown",
   "id": "bf2b9880",
   "metadata": {},
   "source": [
    "source: [世界の百万都市の位置データ Location Data of Megacities - ASTI アマノ技研](https://amano-tec.com/data/megacities.html)"
   ]
  },
  {
   "cell_type": "code",
   "execution_count": 1,
   "id": "7092cfb7",
   "metadata": {},
   "outputs": [],
   "source": [
    "import json\n",
    "import re\n",
    "from collections import defaultdict\n",
    "\n",
    "import pandas as pd\n",
    "import jaconv"
   ]
  },
  {
   "cell_type": "code",
   "execution_count": 2,
   "id": "3c822391",
   "metadata": {},
   "outputs": [
    {
     "data": {
      "text/html": [
       "<div>\n",
       "<style scoped>\n",
       "    .dataframe tbody tr th:only-of-type {\n",
       "        vertical-align: middle;\n",
       "    }\n",
       "\n",
       "    .dataframe tbody tr th {\n",
       "        vertical-align: top;\n",
       "    }\n",
       "\n",
       "    .dataframe thead th {\n",
       "        text-align: right;\n",
       "    }\n",
       "</style>\n",
       "<table border=\"1\" class=\"dataframe\">\n",
       "  <thead>\n",
       "    <tr style=\"text-align: right;\">\n",
       "      <th></th>\n",
       "      <th>0</th>\n",
       "      <th>1</th>\n",
       "      <th>2</th>\n",
       "      <th>3</th>\n",
       "      <th>4</th>\n",
       "    </tr>\n",
       "  </thead>\n",
       "  <tbody>\n",
       "    <tr>\n",
       "      <th>country_code</th>\n",
       "      <td>AZ</td>\n",
       "      <td>AF</td>\n",
       "      <td>US</td>\n",
       "      <td>US</td>\n",
       "      <td>US</td>\n",
       "    </tr>\n",
       "    <tr>\n",
       "      <th>name_jp</th>\n",
       "      <td>アゼルバイジャン共和国</td>\n",
       "      <td>アフガニスタン・イスラム共和国</td>\n",
       "      <td>アメリカ合衆国</td>\n",
       "      <td>アメリカ合衆国</td>\n",
       "      <td>アメリカ合衆国</td>\n",
       "    </tr>\n",
       "    <tr>\n",
       "      <th>name_jps</th>\n",
       "      <td>アゼルバイジャン</td>\n",
       "      <td>アフガニスタン</td>\n",
       "      <td>アメリカ（米国）</td>\n",
       "      <td>アメリカ（米国）</td>\n",
       "      <td>アメリカ（米国）</td>\n",
       "    </tr>\n",
       "    <tr>\n",
       "      <th>name_en</th>\n",
       "      <td>Republic of Azerbaijan</td>\n",
       "      <td>Islamic Republic of Afghanistan</td>\n",
       "      <td>United States of America</td>\n",
       "      <td>United States of America</td>\n",
       "      <td>United States of America</td>\n",
       "    </tr>\n",
       "    <tr>\n",
       "      <th>name_ens</th>\n",
       "      <td>Azerbaijan</td>\n",
       "      <td>Afghanistan</td>\n",
       "      <td>United States</td>\n",
       "      <td>United States</td>\n",
       "      <td>United States</td>\n",
       "    </tr>\n",
       "    <tr>\n",
       "      <th>capital_jp</th>\n",
       "      <td>バクー</td>\n",
       "      <td>カブール</td>\n",
       "      <td>サンアントニオ</td>\n",
       "      <td>サンディエゴ</td>\n",
       "      <td>シカゴ</td>\n",
       "    </tr>\n",
       "    <tr>\n",
       "      <th>capital_en</th>\n",
       "      <td>Baku</td>\n",
       "      <td>Kabul</td>\n",
       "      <td>San Antonio</td>\n",
       "      <td>San Diego</td>\n",
       "      <td>Chicago</td>\n",
       "    </tr>\n",
       "    <tr>\n",
       "      <th>iscapital</th>\n",
       "      <td>1</td>\n",
       "      <td>1</td>\n",
       "      <td>0</td>\n",
       "      <td>0</td>\n",
       "      <td>0</td>\n",
       "    </tr>\n",
       "    <tr>\n",
       "      <th>lat</th>\n",
       "      <td>40.36704</td>\n",
       "      <td>34.521096</td>\n",
       "      <td>29.424587</td>\n",
       "      <td>32.721944</td>\n",
       "      <td>41.883823</td>\n",
       "    </tr>\n",
       "    <tr>\n",
       "      <th>lon</th>\n",
       "      <td>49.832039</td>\n",
       "      <td>69.173672</td>\n",
       "      <td>-98.495145</td>\n",
       "      <td>-117.171918</td>\n",
       "      <td>-87.632078</td>\n",
       "    </tr>\n",
       "    <tr>\n",
       "      <th>pop</th>\n",
       "      <td>2285273</td>\n",
       "      <td>4775074</td>\n",
       "      <td>1451853</td>\n",
       "      <td>1381611</td>\n",
       "      <td>2696555</td>\n",
       "    </tr>\n",
       "    <tr>\n",
       "      <th>pop_year</th>\n",
       "      <td>2019</td>\n",
       "      <td>2021</td>\n",
       "      <td>2021</td>\n",
       "      <td>2021</td>\n",
       "      <td>2021</td>\n",
       "    </tr>\n",
       "    <tr>\n",
       "      <th>pop_ref</th>\n",
       "      <td>DYB2020</td>\n",
       "      <td>DYB2021</td>\n",
       "      <td>DYB2021</td>\n",
       "      <td>DYB2021</td>\n",
       "      <td>DYB2021</td>\n",
       "    </tr>\n",
       "    <tr>\n",
       "      <th>note_jp</th>\n",
       "      <td>NaN</td>\n",
       "      <td>NaN</td>\n",
       "      <td>NaN</td>\n",
       "      <td>NaN</td>\n",
       "      <td>NaN</td>\n",
       "    </tr>\n",
       "    <tr>\n",
       "      <th>note_en</th>\n",
       "      <td>NaN</td>\n",
       "      <td>NaN</td>\n",
       "      <td>NaN</td>\n",
       "      <td>NaN</td>\n",
       "      <td>NaN</td>\n",
       "    </tr>\n",
       "  </tbody>\n",
       "</table>\n",
       "</div>"
      ],
      "text/plain": [
       "                                   0                                1  \\\n",
       "country_code                      AZ                               AF   \n",
       "name_jp                  アゼルバイジャン共和国                  アフガニスタン・イスラム共和国   \n",
       "name_jps                    アゼルバイジャン                          アフガニスタン   \n",
       "name_en       Republic of Azerbaijan  Islamic Republic of Afghanistan   \n",
       "name_ens                  Azerbaijan                      Afghanistan   \n",
       "capital_jp                       バクー                             カブール   \n",
       "capital_en                      Baku                            Kabul   \n",
       "iscapital                          1                                1   \n",
       "lat                         40.36704                        34.521096   \n",
       "lon                        49.832039                        69.173672   \n",
       "pop                          2285273                          4775074   \n",
       "pop_year                        2019                             2021   \n",
       "pop_ref                      DYB2020                          DYB2021   \n",
       "note_jp                          NaN                              NaN   \n",
       "note_en                          NaN                              NaN   \n",
       "\n",
       "                                     2                         3  \\\n",
       "country_code                        US                        US   \n",
       "name_jp                        アメリカ合衆国                   アメリカ合衆国   \n",
       "name_jps                      アメリカ（米国）                  アメリカ（米国）   \n",
       "name_en       United States of America  United States of America   \n",
       "name_ens                 United States             United States   \n",
       "capital_jp                     サンアントニオ                    サンディエゴ   \n",
       "capital_en                 San Antonio                 San Diego   \n",
       "iscapital                            0                         0   \n",
       "lat                          29.424587                 32.721944   \n",
       "lon                         -98.495145               -117.171918   \n",
       "pop                            1451853                   1381611   \n",
       "pop_year                          2021                      2021   \n",
       "pop_ref                        DYB2021                   DYB2021   \n",
       "note_jp                            NaN                       NaN   \n",
       "note_en                            NaN                       NaN   \n",
       "\n",
       "                                     4  \n",
       "country_code                        US  \n",
       "name_jp                        アメリカ合衆国  \n",
       "name_jps                      アメリカ（米国）  \n",
       "name_en       United States of America  \n",
       "name_ens                 United States  \n",
       "capital_jp                         シカゴ  \n",
       "capital_en                     Chicago  \n",
       "iscapital                            0  \n",
       "lat                          41.883823  \n",
       "lon                         -87.632078  \n",
       "pop                            2696555  \n",
       "pop_year                          2021  \n",
       "pop_ref                        DYB2021  \n",
       "note_jp                            NaN  \n",
       "note_en                            NaN  "
      ]
     },
     "execution_count": 2,
     "metadata": {},
     "output_type": "execute_result"
    }
   ],
   "source": [
    "df = pd.read_csv(\"./asti-dats59r03wm/s59r03megacities_utf8.csv\", sep=\"\\t\")\n",
    "df.head().T"
   ]
  },
  {
   "cell_type": "code",
   "execution_count": 3,
   "id": "0607de2e",
   "metadata": {},
   "outputs": [],
   "source": [
    "def remove_bracket(name):\n",
    "        if \"（\" in name:\n",
    "            parts = name.split(\"（\")\n",
    "            assert len(parts) == 2\n",
    "            assert parts[1][-1] == \"）\"\n",
    "            return parts[0]\n",
    "        return name"
   ]
  },
  {
   "cell_type": "code",
   "execution_count": null,
   "id": "19c111f5",
   "metadata": {},
   "outputs": [],
   "source": []
  },
  {
   "cell_type": "code",
   "execution_count": 4,
   "id": "512afdb7",
   "metadata": {},
   "outputs": [],
   "source": [
    "hiragana_pattern = r'^[\\u3040-\\u309F]+$'\n",
    "katakana_pattern = r'^[\\u30A0-\\u30FF]+$'\n",
    "\n",
    "reading_dict = {\n",
    "    \"東京\": \"とうきょう\",\n",
    "    \"大阪\": \"おおさか\",\n",
    "    \"川崎\": \"かわさき\",\n",
    "    \"京都\": \"きょうと\",\n",
    "    \"神戸\": \"こうべ\",\n",
    "    \"札幌\": \"さっぽろ\",\n",
    "    \"仙台\": \"せんだい\",\n",
    "    \"名古屋\": \"なごや\",\n",
    "    \"広島\": \"ひろしま\",\n",
    "    \"福岡\": \"ふくおか\",\n",
    "    \"横浜\": \"よこはま\"\n",
    "}\n",
    "\n",
    "def is_katakana(name):\n",
    "    return re.match(katakana_pattern, name)\n",
    "\n",
    "def name2reading(name):\n",
    "    if re.match(hiragana_pattern, name):\n",
    "        return name\n",
    "    elif re.match(katakana_pattern, name):\n",
    "        return jaconv.kata2hira(name)\n",
    "\n",
    "    # ひらがな, カタカナ以外\n",
    "    if \"（\" in name:\n",
    "        parts = name.split(\"（\")\n",
    "        assert len(parts) == 2\n",
    "        assert parts[1][-1] == \"）\"\n",
    "        katakana = parts[1][:-1]\n",
    "        return jaconv.kata2hira(katakana)\n",
    "\n",
    "    assert name in reading_dict, name\n",
    "    return reading_dict[name]"
   ]
  },
  {
   "cell_type": "code",
   "execution_count": 5,
   "id": "ffe136bd",
   "metadata": {},
   "outputs": [],
   "source": [
    "# 長音, 促音を考慮\n",
    "def get_last_char(reading):\n",
    "    if reading[-1] == \"ー\":\n",
    "        return get_last_char(reading[:-1])\n",
    "    if reading[-1] == \"ぁ\":\n",
    "        return \"あ\"\n",
    "    if reading[-1] == \"ぃ\":\n",
    "        return \"い\"\n",
    "    if reading[-1] == \"ぅ\":\n",
    "        return \"う\"\n",
    "    if reading[-1] == \"ぇ\":\n",
    "        return \"え\"\n",
    "    if reading[-1] == \"ゃ\":\n",
    "        return \"や\"\n",
    "    if reading[-1] ==\"ゅ\":\n",
    "        return \"ゆ\"\n",
    "    return reading[-1]"
   ]
  },
  {
   "cell_type": "code",
   "execution_count": 6,
   "id": "6ec55dde",
   "metadata": {
    "scrolled": false
   },
   "outputs": [
    {
     "data": {
      "text/plain": [
       "[{'name': 'ンジャメナ',\n",
       "  'reading': 'んじゃめな',\n",
       "  'country': 'チャド共和国',\n",
       "  'population': 1521882,\n",
       "  'coordinates': [15.0448322, 12.1052915],\n",
       "  'shiritori': {'first': 'ん', 'last': 'な'}}]"
      ]
     },
     "execution_count": 6,
     "metadata": {},
     "output_type": "execute_result"
    }
   ],
   "source": [
    "cities = []\n",
    "\n",
    "for _, row in df.iterrows():\n",
    "    d = row.to_dict()\n",
    "    \n",
    "    # 特殊なケースをスキップ - 「ダマスカス」自体は別途含まれる\n",
    "    if d[\"capital_jp\"] == \"ダマスカス郊外\": continue\n",
    "        \n",
    "    # 🥳\n",
    "    if d[\"capital_jp\"] == \"ウンジャメナ\": d[\"capital_jp\"] = \"ンジャメナ\"\n",
    "        \n",
    "    name = remove_bracket(d[\"capital_jp\"])\n",
    "    reading = name2reading(d[\"capital_jp\"])\n",
    "    \n",
    "    item = {\n",
    "        \"name\": name,\n",
    "        \"reading\": reading,\n",
    "        \"country\": d[\"name_jp\"],\n",
    "        \"population\": d[\"pop\"],\n",
    "        \"coordinates\": [d[\"lon\"], d[\"lat\"]],\n",
    "        \"shiritori\": {\n",
    "            \"first\": reading[0],\n",
    "            \"last\": get_last_char(reading),\n",
    "        }\n",
    "    }\n",
    "    \n",
    "    if not is_katakana(name):\n",
    "        item[\"notKatakana\"] = True\n",
    "    \n",
    "    cities.append(item)\n",
    "\n",
    "[d for d in cities if d[\"name\"] == \"ンジャメナ\"]"
   ]
  },
  {
   "cell_type": "markdown",
   "id": "3343bb8f",
   "metadata": {},
   "source": [
    "### deadend"
   ]
  },
  {
   "cell_type": "code",
   "execution_count": 7,
   "id": "3c7ded1f",
   "metadata": {},
   "outputs": [],
   "source": [
    "shiritori_first_dict = defaultdict(list)\n",
    "shiritori_last_dict = defaultdict(list)\n",
    "\n",
    "for city in cities:\n",
    "    shiritori_first_dict[city[\"shiritori\"][\"first\"]].append(city)\n",
    "    shiritori_last_dict[city[\"shiritori\"][\"last\"]].append(city)"
   ]
  },
  {
   "cell_type": "code",
   "execution_count": 8,
   "id": "1c582040",
   "metadata": {},
   "outputs": [
    {
     "data": {
      "text/plain": [
       "{'づ'}"
      ]
     },
     "execution_count": 8,
     "metadata": {},
     "output_type": "execute_result"
    }
   ],
   "source": [
    "set(shiritori_last_dict.keys()) - set(shiritori_first_dict.keys())"
   ]
  },
  {
   "cell_type": "code",
   "execution_count": 9,
   "id": "dc38c8ca",
   "metadata": {},
   "outputs": [
    {
     "data": {
      "text/plain": [
       "[{'name': '菏沢',\n",
       "  'reading': 'ほーづー',\n",
       "  'country': '中華人民共和国',\n",
       "  'population': 1280031,\n",
       "  'coordinates': [115.4738228, 35.2348208],\n",
       "  'shiritori': {'first': 'ほ', 'last': 'づ'},\n",
       "  'notKatakana': True}]"
      ]
     },
     "execution_count": 9,
     "metadata": {},
     "output_type": "execute_result"
    }
   ],
   "source": [
    "shiritori_last_dict[\"づ\"]"
   ]
  },
  {
   "cell_type": "code",
   "execution_count": 10,
   "id": "502ae11c",
   "metadata": {},
   "outputs": [
    {
     "data": {
      "text/plain": [
       "[{'name': 'アフヴァーズ',\n",
       "  'reading': 'あふゔぁーず',\n",
       "  'country': 'イラン・イスラム共和国',\n",
       "  'population': 1184788,\n",
       "  'coordinates': [48.6629412, 31.3204333],\n",
       "  'shiritori': {'first': 'あ', 'last': 'ず'}},\n",
       " {'name': 'シーラーズ',\n",
       "  'reading': 'しーらーず',\n",
       "  'country': 'イラン・イスラム共和国',\n",
       "  'population': 1565572,\n",
       "  'coordinates': [52.5429486, 29.6182001],\n",
       "  'shiritori': {'first': 'し', 'last': 'ず'}},\n",
       " {'name': 'タブリーズ',\n",
       "  'reading': 'たぶりーず',\n",
       "  'country': 'イラン・イスラム共和国',\n",
       "  'population': 1558693,\n",
       "  'coordinates': [46.2956786, 38.0736806],\n",
       "  'shiritori': {'first': 'た', 'last': 'ず'}},\n",
       " {'name': 'フェズ',\n",
       "  'reading': 'ふぇず',\n",
       "  'country': 'モロッコ王国',\n",
       "  'population': 1249416,\n",
       "  'coordinates': [-5.016249, 34.034446],\n",
       "  'shiritori': {'first': 'ふ', 'last': 'ず'}}]"
      ]
     },
     "execution_count": 10,
     "metadata": {},
     "output_type": "execute_result"
    }
   ],
   "source": [
    "shiritori_last_dict[\"ず\"]"
   ]
  },
  {
   "cell_type": "code",
   "execution_count": 11,
   "id": "52d3eb39",
   "metadata": {},
   "outputs": [
    {
     "data": {
      "text/plain": [
       "[{'name': '淄博',\n",
       "  'reading': 'ずーぼー',\n",
       "  'country': '中華人民共和国',\n",
       "  'population': 2817479,\n",
       "  'coordinates': [118.0488091, 36.813085],\n",
       "  'shiritori': {'first': 'ず', 'last': 'ぼ'},\n",
       "  'notKatakana': True},\n",
       " {'name': '資陽',\n",
       "  'reading': 'ずーやん',\n",
       "  'country': '中華人民共和国',\n",
       "  'population': 1016034,\n",
       "  'coordinates': [104.6251845, 30.1316754],\n",
       "  'shiritori': {'first': 'ず', 'last': 'ん'},\n",
       "  'notKatakana': True},\n",
       " {'name': '鄭州',\n",
       "  'reading': 'ずぇんぢょう',\n",
       "  'country': '中華人民共和国',\n",
       "  'population': 2589387,\n",
       "  'coordinates': [113.6193223, 34.7477857],\n",
       "  'shiritori': {'first': 'ず', 'last': 'う'},\n",
       "  'notKatakana': True},\n",
       " {'name': '鄒城',\n",
       "  'reading': 'ずぉうちょん',\n",
       "  'country': '中華人民共和国',\n",
       "  'population': 1101003,\n",
       "  'coordinates': [117.0016364, 35.4046683],\n",
       "  'shiritori': {'first': 'ず', 'last': 'ん'},\n",
       "  'notKatakana': True},\n",
       " {'name': '中山',\n",
       "  'reading': 'ずぉんしゃん',\n",
       "  'country': '中華人民共和国',\n",
       "  'population': 2363322,\n",
       "  'coordinates': [113.3881505, 22.5196006],\n",
       "  'shiritori': {'first': 'ず', 'last': 'ん'},\n",
       "  'notKatakana': True}]"
      ]
     },
     "execution_count": 11,
     "metadata": {},
     "output_type": "execute_result"
    }
   ],
   "source": [
    "shiritori_first_dict[\"ず\"]"
   ]
  },
  {
   "cell_type": "code",
   "execution_count": 12,
   "id": "8438294d",
   "metadata": {},
   "outputs": [
    {
     "data": {
      "text/plain": [
       "[(340,\n",
       "  {'name': '菏沢',\n",
       "   'reading': 'ほーづー',\n",
       "   'country': '中華人民共和国',\n",
       "   'population': 1280031,\n",
       "   'coordinates': [115.4738228, 35.2348208],\n",
       "   'shiritori': {'first': 'ほ', 'last': 'づ'},\n",
       "   'notKatakana': True})]"
      ]
     },
     "execution_count": 12,
     "metadata": {},
     "output_type": "execute_result"
    }
   ],
   "source": [
    "[(i, city) for i, city in enumerate(cities) if city[\"shiritori\"][\"last\"] == \"づ\"]"
   ]
  },
  {
   "cell_type": "code",
   "execution_count": 13,
   "id": "0be1ce23",
   "metadata": {},
   "outputs": [],
   "source": [
    "cities[340][\"shiritori\"][\"last\"] = \"ず\""
   ]
  },
  {
   "cell_type": "code",
   "execution_count": 14,
   "id": "958c7d84",
   "metadata": {},
   "outputs": [
    {
     "data": {
      "text/plain": [
       "{'name': '菏沢',\n",
       " 'reading': 'ほーづー',\n",
       " 'country': '中華人民共和国',\n",
       " 'population': 1280031,\n",
       " 'coordinates': [115.4738228, 35.2348208],\n",
       " 'shiritori': {'first': 'ほ', 'last': 'ず'},\n",
       " 'notKatakana': True}"
      ]
     },
     "execution_count": 14,
     "metadata": {},
     "output_type": "execute_result"
    }
   ],
   "source": [
    "cities[340]"
   ]
  },
  {
   "cell_type": "markdown",
   "id": "69fc97c0",
   "metadata": {},
   "source": [
    "### output"
   ]
  },
  {
   "cell_type": "code",
   "execution_count": 15,
   "id": "7b3a73e0",
   "metadata": {},
   "outputs": [],
   "source": [
    "with open(\"../static/cities.json\", \"w\") as fp:\n",
    "    json.dump(cities, fp, ensure_ascii=False, indent=2)"
   ]
  },
  {
   "cell_type": "code",
   "execution_count": 16,
   "id": "49168791",
   "metadata": {},
   "outputs": [
    {
     "name": "stdout",
     "output_type": "stream",
     "text": [
      "-rw-r--r--  1 sorami  staff   141K Jul 17 17:23 ../static/cities.json\r\n"
     ]
    }
   ],
   "source": [
    "!ls -lh ../static/cities.json"
   ]
  },
  {
   "cell_type": "code",
   "execution_count": 17,
   "id": "612c144c",
   "metadata": {},
   "outputs": [
    {
     "name": "stdout",
     "output_type": "stream",
     "text": [
      "[\r\n",
      "  {\r\n",
      "    \"name\": \"バクー\",\r\n",
      "    \"reading\": \"ばくー\",\r\n",
      "    \"country\": \"アゼルバイジャン共和国\",\r\n",
      "    \"population\": 2285273,\r\n",
      "    \"coordinates\": [\r\n",
      "      49.8320385,\r\n",
      "      40.3670397\r\n",
      "    ],\r\n",
      "    \"shiritori\": {\r\n",
      "      \"first\": \"ば\",\r\n",
      "      \"last\": \"く\"\r\n",
      "    }\r\n",
      "  },\r\n",
      "  {\r\n",
      "    \"name\": \"カブール\",\r\n",
      "    \"reading\": \"かぶーる\",\r\n",
      "    \"country\": \"アフガニスタン・イスラム共和国\",\r\n",
      "    \"population\": 4775074,\r\n"
     ]
    }
   ],
   "source": [
    "!head -20 ../static/cities.json"
   ]
  },
  {
   "cell_type": "markdown",
   "id": "60eb7edd",
   "metadata": {},
   "source": [
    "## Stats"
   ]
  },
  {
   "cell_type": "markdown",
   "id": "a8e200ce",
   "metadata": {},
   "source": [
    "### long names"
   ]
  },
  {
   "cell_type": "code",
   "execution_count": 18,
   "id": "8be84850",
   "metadata": {
    "scrolled": true
   },
   "outputs": [
    {
     "data": {
      "text/plain": [
       "['ナコーンシータンマラート',\n",
       " 'ナコーンラーチャシーマー',\n",
       " 'ピンプリ・チンチワッド',\n",
       " 'ウボンラーチャターニー',\n",
       " 'ヴィシャーカパトナム',\n",
       " 'サントドミンゴエステ',\n",
       " 'アグアスカリエンテス',\n",
       " 'サンクトペテルブルク',\n",
       " 'アウランガーバード',\n",
       " 'ガーズィヤーバード']"
      ]
     },
     "execution_count": 18,
     "metadata": {},
     "output_type": "execute_result"
    }
   ],
   "source": [
    "sorted([d[\"name\"] for d in cities], reverse=True, key=lambda x: len(x))[:10]"
   ]
  },
  {
   "cell_type": "markdown",
   "id": "4bbf02a5",
   "metadata": {},
   "source": [
    "### counts"
   ]
  },
  {
   "cell_type": "code",
   "execution_count": 19,
   "id": "f0303fbe",
   "metadata": {},
   "outputs": [],
   "source": [
    "shiritori_first_dict = defaultdict(list)\n",
    "shiritori_last_dict = defaultdict(list)\n",
    "\n",
    "for city in cities:\n",
    "    shiritori_first_dict[city[\"shiritori\"][\"first\"]].append(city)\n",
    "    shiritori_last_dict[city[\"shiritori\"][\"last\"]].append(city)"
   ]
  },
  {
   "cell_type": "code",
   "execution_count": 20,
   "id": "56199a3c",
   "metadata": {
    "scrolled": true
   },
   "outputs": [
    {
     "data": {
      "text/html": [
       "<div>\n",
       "<style scoped>\n",
       "    .dataframe tbody tr th:only-of-type {\n",
       "        vertical-align: middle;\n",
       "    }\n",
       "\n",
       "    .dataframe tbody tr th {\n",
       "        vertical-align: top;\n",
       "    }\n",
       "\n",
       "    .dataframe thead th {\n",
       "        text-align: right;\n",
       "    }\n",
       "</style>\n",
       "<table border=\"1\" class=\"dataframe\">\n",
       "  <thead>\n",
       "    <tr style=\"text-align: right;\">\n",
       "      <th></th>\n",
       "      <th>first</th>\n",
       "      <th>count</th>\n",
       "    </tr>\n",
       "  </thead>\n",
       "  <tbody>\n",
       "    <tr>\n",
       "      <th>0</th>\n",
       "      <td>あ</td>\n",
       "      <td>29</td>\n",
       "    </tr>\n",
       "    <tr>\n",
       "      <th>1</th>\n",
       "      <td>し</td>\n",
       "      <td>28</td>\n",
       "    </tr>\n",
       "    <tr>\n",
       "      <th>2</th>\n",
       "      <td>ち</td>\n",
       "      <td>23</td>\n",
       "    </tr>\n",
       "    <tr>\n",
       "      <th>3</th>\n",
       "      <td>か</td>\n",
       "      <td>21</td>\n",
       "    </tr>\n",
       "    <tr>\n",
       "      <th>4</th>\n",
       "      <td>さ</td>\n",
       "      <td>20</td>\n",
       "    </tr>\n",
       "    <tr>\n",
       "      <th>5</th>\n",
       "      <td>は</td>\n",
       "      <td>19</td>\n",
       "    </tr>\n",
       "    <tr>\n",
       "      <th>6</th>\n",
       "      <td>ふ</td>\n",
       "      <td>18</td>\n",
       "    </tr>\n",
       "    <tr>\n",
       "      <th>7</th>\n",
       "      <td>ば</td>\n",
       "      <td>17</td>\n",
       "    </tr>\n",
       "    <tr>\n",
       "      <th>8</th>\n",
       "      <td>ま</td>\n",
       "      <td>16</td>\n",
       "    </tr>\n",
       "    <tr>\n",
       "      <th>9</th>\n",
       "      <td>な</td>\n",
       "      <td>15</td>\n",
       "    </tr>\n",
       "  </tbody>\n",
       "</table>\n",
       "</div>"
      ],
      "text/plain": [
       "  first  count\n",
       "0     あ     29\n",
       "1     し     28\n",
       "2     ち     23\n",
       "3     か     21\n",
       "4     さ     20\n",
       "5     は     19\n",
       "6     ふ     18\n",
       "7     ば     17\n",
       "8     ま     16\n",
       "9     な     15"
      ]
     },
     "execution_count": 20,
     "metadata": {},
     "output_type": "execute_result"
    }
   ],
   "source": [
    "pd.DataFrame([(k, len(v)) for k, v in shiritori_first_dict.items()], columns=[\"first\", \"count\"])\\\n",
    "    .sort_values(\"count\", ascending=False)\\\n",
    "    .reset_index(drop=True)\\\n",
    "    .head(10)"
   ]
  },
  {
   "cell_type": "code",
   "execution_count": 21,
   "id": "5ea1e159",
   "metadata": {},
   "outputs": [
    {
     "data": {
      "text/html": [
       "<div>\n",
       "<style scoped>\n",
       "    .dataframe tbody tr th:only-of-type {\n",
       "        vertical-align: middle;\n",
       "    }\n",
       "\n",
       "    .dataframe tbody tr th {\n",
       "        vertical-align: top;\n",
       "    }\n",
       "\n",
       "    .dataframe thead th {\n",
       "        text-align: right;\n",
       "    }\n",
       "</style>\n",
       "<table border=\"1\" class=\"dataframe\">\n",
       "  <thead>\n",
       "    <tr style=\"text-align: right;\">\n",
       "      <th></th>\n",
       "      <th>last</th>\n",
       "      <th>count</th>\n",
       "    </tr>\n",
       "  </thead>\n",
       "  <tbody>\n",
       "    <tr>\n",
       "      <th>0</th>\n",
       "      <td>ん</td>\n",
       "      <td>149</td>\n",
       "    </tr>\n",
       "    <tr>\n",
       "      <th>1</th>\n",
       "      <td>う</td>\n",
       "      <td>44</td>\n",
       "    </tr>\n",
       "    <tr>\n",
       "      <th>2</th>\n",
       "      <td>る</td>\n",
       "      <td>37</td>\n",
       "    </tr>\n",
       "    <tr>\n",
       "      <th>3</th>\n",
       "      <td>い</td>\n",
       "      <td>27</td>\n",
       "    </tr>\n",
       "    <tr>\n",
       "      <th>4</th>\n",
       "      <td>ど</td>\n",
       "      <td>21</td>\n",
       "    </tr>\n",
       "    <tr>\n",
       "      <th>5</th>\n",
       "      <td>ら</td>\n",
       "      <td>17</td>\n",
       "    </tr>\n",
       "    <tr>\n",
       "      <th>6</th>\n",
       "      <td>す</td>\n",
       "      <td>17</td>\n",
       "    </tr>\n",
       "    <tr>\n",
       "      <th>7</th>\n",
       "      <td>と</td>\n",
       "      <td>16</td>\n",
       "    </tr>\n",
       "    <tr>\n",
       "      <th>8</th>\n",
       "      <td>く</td>\n",
       "      <td>13</td>\n",
       "    </tr>\n",
       "    <tr>\n",
       "      <th>9</th>\n",
       "      <td>り</td>\n",
       "      <td>12</td>\n",
       "    </tr>\n",
       "  </tbody>\n",
       "</table>\n",
       "</div>"
      ],
      "text/plain": [
       "  last  count\n",
       "0    ん    149\n",
       "1    う     44\n",
       "2    る     37\n",
       "3    い     27\n",
       "4    ど     21\n",
       "5    ら     17\n",
       "6    す     17\n",
       "7    と     16\n",
       "8    く     13\n",
       "9    り     12"
      ]
     },
     "execution_count": 21,
     "metadata": {},
     "output_type": "execute_result"
    }
   ],
   "source": [
    "pd.DataFrame([(k, len(v)) for k, v in shiritori_last_dict.items()], columns=[\"last\", \"count\"])\\\n",
    "    .sort_values(\"count\", ascending=False)\\\n",
    "    .reset_index(drop=True)\\\n",
    "    .head(10)"
   ]
  },
  {
   "cell_type": "markdown",
   "id": "5c1541fc",
   "metadata": {},
   "source": [
    "### no incoming cities"
   ]
  },
  {
   "cell_type": "code",
   "execution_count": 22,
   "id": "34c47f6c",
   "metadata": {},
   "outputs": [
    {
     "data": {
      "text/plain": [
       "{'が', 'け', 'せ', 'そ', 'ぢ', 'つ', 'ぴ', 'ふ', 'ぺ', 'ほ', 'ゔ'}"
      ]
     },
     "execution_count": 22,
     "metadata": {},
     "output_type": "execute_result"
    }
   ],
   "source": [
    "set(shiritori_first_dict.keys()) - set(shiritori_last_dict.keys())"
   ]
  },
  {
   "cell_type": "code",
   "execution_count": 23,
   "id": "17229158",
   "metadata": {
    "scrolled": false
   },
   "outputs": [
    {
     "data": {
      "text/plain": [
       "[('フィラデルフィア', 'ふぃらでるふぃあ'),\n",
       " ('フェニックス', 'ふぇにっくす'),\n",
       " ('ヴァドーダラー', 'ゔぁどーだらー'),\n",
       " ('ヴィシャーカパトナム', 'ゔぃしゃーかぱとなむ'),\n",
       " ('ヴィジャヤワーダ', 'ゔぃじゃやわーだ'),\n",
       " ('ガーズィヤーバード', 'がーずぃやーばーど'),\n",
       " ('ピンプリ・チンチワッド', 'ぴんぷり・ちんちわっど'),\n",
       " ('ファリーダーバード', 'ふぁりーだーばーど'),\n",
       " ('ソウル', 'そうる'),\n",
       " ('ピョンヤン', 'ぴょんやん'),\n",
       " ('フリータウン', 'ふりーたうん'),\n",
       " ('ホムス', 'ほむす'),\n",
       " ('ピキン', 'ぴきん'),\n",
       " ('ソンクラー', 'そんくらー'),\n",
       " ('北京', 'ぺきん'),\n",
       " ('吉林', 'ぢーりん'),\n",
       " ('諸曁', 'ぢゅーじー'),\n",
       " ('鍾祥', 'ぢょんしゃん'),\n",
       " ('自貢', 'つーごん'),\n",
       " ('慈渓', 'つーしー'),\n",
       " ('成都', 'つぇんどぅー'),\n",
       " ('重慶', 'つぉんちん'),\n",
       " ('邳州', 'ぴーぢょう'),\n",
       " ('平度', 'ぴんどぅ'),\n",
       " ('淮南', 'ふぁいなん'),\n",
       " ('撫順', 'ふーしゅん'),\n",
       " ('福州', 'ふーぢょう'),\n",
       " ('撫州', 'ふーぢょう'),\n",
       " ('湖州', 'ふーぢょう'),\n",
       " ('福清', 'ふーちん'),\n",
       " ('富陽', 'ふーやん'),\n",
       " ('豊城', 'ふぉんちょん'),\n",
       " ('呼和浩特', 'ふふほと'),\n",
       " ('淮安', 'ほぁいあん'),\n",
       " ('化州', 'ほあちょう'),\n",
       " ('合川', 'ほーちゅあん'),\n",
       " ('菏沢', 'ほーづー'),\n",
       " ('香港', 'ほんこん'),\n",
       " ('ケルン', 'けるん'),\n",
       " ('ヴァン', 'ゔぁん'),\n",
       " ('ガジアンテップ', 'がじあんてっぷ'),\n",
       " ('仙台', 'せんだい'),\n",
       " ('福岡', 'ふくおか'),\n",
       " ('ファイサラバード', 'ふぁいさらばーど'),\n",
       " ('ペシャーワル', 'ぺしゃーわる'),\n",
       " ('ケソンシティ', 'けそんしてぃ'),\n",
       " ('フォルタレザ', 'ふぉるたれざ'),\n",
       " ('ソフィア', 'そふぃあ'),\n",
       " ('ホーチミン', 'ほーちみん'),\n",
       " ('ケレタロ', 'けれたろ'),\n",
       " ('フアレス', 'ふあれす'),\n",
       " ('ケニトラ', 'けにとら'),\n",
       " ('フェズ', 'ふぇず'),\n",
       " ('ペルミ', 'ぺるみ')]"
      ]
     },
     "execution_count": 23,
     "metadata": {},
     "output_type": "execute_result"
    }
   ],
   "source": [
    "[(city[\"name\"], city[\"reading\"]) for city in cities if city[\"shiritori\"][\"first\"] in set(shiritori_first_dict.keys()) - set(shiritori_last_dict.keys())]"
   ]
  }
 ],
 "metadata": {
  "kernelspec": {
   "display_name": "Python 3 (ipykernel)",
   "language": "python",
   "name": "python3"
  },
  "language_info": {
   "codemirror_mode": {
    "name": "ipython",
    "version": 3
   },
   "file_extension": ".py",
   "mimetype": "text/x-python",
   "name": "python",
   "nbconvert_exporter": "python",
   "pygments_lexer": "ipython3",
   "version": "3.9.13"
  }
 },
 "nbformat": 4,
 "nbformat_minor": 5
}
